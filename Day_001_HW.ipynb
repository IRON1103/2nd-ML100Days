{
 "cells": [
  {
   "cell_type": "markdown",
   "metadata": {},
   "source": [
    "## 作業1-請上 Kaggle, 在 Competitions 或 Dataset 中找一組競賽或資料並寫下：\n",
    "* Suicide Rates Overview 1985 to 2016(https://www.kaggle.com/russellyates88/suicide-rates-overview-1985-to-2016)\n",
    "\n",
    "#### 1. 你選的這組資料為何重要\n",
    "* 藉由比對社會經濟指標與自殺率的關係，預估自殺人口數\n",
    "\n",
    "#### 2. 資料從何而來 (tips: 譬如提供者是誰、以什麼方式蒐集)\n",
    "* 此份資料由一位叫「Rusty」的網友整合了四份資料而來\n",
    "* a. 聯合國開發計劃署的人類發展指數\n",
    "* b. 世界銀行的世界發展指標，擷取國家GDP\n",
    "* c. 另一位網友「Szamil」所整理的資料，其資料源來自世界衛生組織自殺統計資料\n",
    "* d. 世界衛生組織的自殺防制資料，172個會員國僅60國的資料為Good-Quality\n",
    "\n",
    "#### 3. 蒐集而來的資料型態為何\n",
    "* CSV檔，結構化資料。包含的欄位有：年份、國家、性別、年齡、人口、GDP、自殺人數，等等。\n",
    "\n",
    "#### 4. 這組資料想解決的問題如何評估\n",
    "* 以人口密集國家及人口稀疏國家，來對應台灣的城市與鄉鎮。\n",
    "* 以HDI(人類發展指數)，及GDP的變化，來預測台灣城市與鄉鎮的自殺人數。"
   ]
  },
  {
   "cell_type": "markdown",
   "metadata": {},
   "source": [
    "## 作業2-想像你經營一個自由載客車隊，你希望能透過數據分析以提升業績，請你思考並描述你如何規劃整體的分析/解決方案：\n",
    "\n",
    "#### 1.  核心問題為何 (tips：如何定義 「提升業績 & 你的假設」)\n",
    "* 提升業績需要增加載客率，降低空車率。\n",
    "* 在乘客叫車前，將空車移到乘客上車熱區，並在不同熱區依預估客數，事先安排空車。\n",
    "* 並在乘客下車後移往附近的上車熱區，同時調節預估的空車數。\n",
    "* 核心問題：\n",
    "* a. 在不同時段，乘客上車熱區位於何處？\n",
    "* b. 不同時段的上車熱區，應安排多少空車數？\n",
    "\n",
    "#### 2. 資料從何而來 (tips：哪些資料可能會對你想問的問題產生影響 & 資料如何蒐集)\n",
    "* 台灣大車隊的叫車系統，有叫車時間及上下車地點。\n",
    "\n",
    "#### 3. 蒐集而來的資料型態為何\n",
    "* CSV檔，結構化資料。包含的欄位有：叫車時間、上車地點、上車時間、下車地點、下車時間。\n",
    "\n",
    "#### 4. 你要回答的問題，其如何評估 (tips：你的假設如何驗證)\n",
    "* 以叫車時間及上車地點，取得不同時段的上車熱區。以同時段資料比數，取得叫車客數。"
   ]
  },
  {
   "cell_type": "code",
   "execution_count": null,
   "metadata": {},
   "outputs": [],
   "source": []
  }
 ],
 "metadata": {
  "kernelspec": {
   "display_name": "Python 3",
   "language": "python",
   "name": "python3"
  },
  "language_info": {
   "codemirror_mode": {
    "name": "ipython",
    "version": 3
   },
   "file_extension": ".py",
   "mimetype": "text/x-python",
   "name": "python",
   "nbconvert_exporter": "python",
   "pygments_lexer": "ipython3",
   "version": "3.7.3"
  }
 },
 "nbformat": 4,
 "nbformat_minor": 2
}
